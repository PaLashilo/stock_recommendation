{
 "cells": [
  {
   "cell_type": "code",
   "execution_count": 39,
   "metadata": {},
   "outputs": [],
   "source": [
    "import pandas as pd\n",
    "import json"
   ]
  },
  {
   "cell_type": "code",
   "execution_count": 31,
   "metadata": {},
   "outputs": [],
   "source": [
    "id_from_nick = pd.read_csv(\"id_nickname.csv\", encoding='latin1', sep = \";\", usecols=[\"id\"])\n",
    "id_from_nick = [i[0] for i in id_from_nick.values.tolist()]"
   ]
  },
  {
   "cell_type": "code",
   "execution_count": 32,
   "metadata": {},
   "outputs": [],
   "source": []
  },
  {
   "cell_type": "code",
   "execution_count": 50,
   "metadata": {},
   "outputs": [
    {
     "name": "stdout",
     "output_type": "stream",
     "text": [
      "[309836, 309844, 309861, 309867, 309942, 309955, 309962, 309985, 309986, 310004, 310061, 310144, 310145, 310165, 310176, 310183, 310192, 310194, 310229, 310242, 310246, 310247, 310280, 310291, 310314, 310319, 310330, 310332, 310349, 310352, 310358, 310361, 310379, 310383, 310407, 310445, 310450, 310481, 310503, 310538, 310557, 310568, 310601, 310667, 310699, 310705, 310758, 310779, 310782, 310791, 310812, 310849, 310866, 310914, 310977, 310993, 311094, 311123, 311124, 311140, 311153, 311194, 311219, 311295, 311298, 311320, 311321, 311341, 311386, 311403, 311442, 311444, 311452, 311470, 311504, 311533, 311547, 311581, 311614, 311636, 311648, 311668, 311676, 311690, 311753, 311764, 311792, 311813, 311821, 311832, 311860, 311872, 311907, 311945, 311952, 311999, 312031, 312040, 312084, 312147, 312152, 312168, 312178, 312183, 312184, 312193, 312198, 312217, 312229, 312235, 312240, 312298, 312340, 312343, 312345, 312388, 312417, 312422, 312431, 312432, 312470, 312488, 312520, 312529, 312598, 312651, 312660, 312664, 312674, 312676, 312685, 312724, 312760, 312788, 312838, 312896, 312908, 312911, 312968, 312973, 313040, 313050, 313117, 313134, 313135, 313167, 313175, 313227, 313258, 313263, 313270, 313275, 313286, 313296, 313303, 313312, 313333, 313354, 313355, 313378, 313393, 313395, 313412, 313514, 313532, 313533, 313558, 313646, 313674, 313762, 313768, 313808, 313815, 313836, 313837, 313838, 313840, 313850, 313882, 313932, 314000, 314004, 314018, 314030, 314036, 314091, 314105, 314286]\n"
     ]
    }
   ],
   "source": [
    "with open(\"C:/Users/pasin/DS/Лаба/riskprofile_site/labwebsite/risk_profile/utils/database/avaliable_ids.json\", \"r\") as file:\n",
    "    ids = json.load(file)\n",
    "    ids = ids.get('ids', [])\n",
    "print(ids)"
   ]
  },
  {
   "cell_type": "code",
   "execution_count": 51,
   "metadata": {},
   "outputs": [
    {
     "data": {
      "text/plain": [
       "188"
      ]
     },
     "execution_count": 51,
     "metadata": {},
     "output_type": "execute_result"
    }
   ],
   "source": [
    "len(ids)"
   ]
  },
  {
   "cell_type": "code",
   "execution_count": 35,
   "metadata": {},
   "outputs": [
    {
     "data": {
      "text/plain": [
       "45"
      ]
     },
     "execution_count": 35,
     "metadata": {},
     "output_type": "execute_result"
    }
   ],
   "source": [
    "len(set(ids).intersection(set(id_from_nick)))"
   ]
  },
  {
   "cell_type": "code",
   "execution_count": 36,
   "metadata": {},
   "outputs": [
    {
     "data": {
      "text/plain": [
       "{309844,\n",
       " 309942,\n",
       " 309985,\n",
       " 310144,\n",
       " 310183,\n",
       " 310246,\n",
       " 310349,\n",
       " 310445,\n",
       " 310557,\n",
       " 310667,\n",
       " 310699,\n",
       " 310705,\n",
       " 310758,\n",
       " 310791,\n",
       " 310993,\n",
       " 311153,\n",
       " 311219,\n",
       " 311386,\n",
       " 311442,\n",
       " 311533,\n",
       " 311636,\n",
       " 311676,\n",
       " 311764,\n",
       " 311872,\n",
       " 312031,\n",
       " 312184,\n",
       " 312193,\n",
       " 312217,\n",
       " 312432,\n",
       " 312651,\n",
       " 312674,\n",
       " 313050,\n",
       " 313134,\n",
       " 313227,\n",
       " 313275,\n",
       " 313303,\n",
       " 313378,\n",
       " 313393,\n",
       " 313533,\n",
       " 313558,\n",
       " 313674,\n",
       " 313836,\n",
       " 313932,\n",
       " 314030,\n",
       " 314105}"
      ]
     },
     "execution_count": 36,
     "metadata": {},
     "output_type": "execute_result"
    }
   ],
   "source": [
    "set(ids).intersection(set(id_from_nick))"
   ]
  }
 ],
 "metadata": {
  "kernelspec": {
   "display_name": "base",
   "language": "python",
   "name": "python3"
  },
  "language_info": {
   "codemirror_mode": {
    "name": "ipython",
    "version": 3
   },
   "file_extension": ".py",
   "mimetype": "text/x-python",
   "name": "python",
   "nbconvert_exporter": "python",
   "pygments_lexer": "ipython3",
   "version": "3.9.7"
  }
 },
 "nbformat": 4,
 "nbformat_minor": 2
}
