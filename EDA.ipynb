{
  "cells": [
    {
      "cell_type": "markdown",
      "source": [
        "# Подготовка данных"
      ],
      "metadata": {
        "id": "SafclrJZqEt8"
      }
    },
    {
      "cell_type": "code",
      "execution_count": null,
      "metadata": {
        "id": "MSBbY53Sy1vy",
        "colab": {
          "base_uri": "https://localhost:8080/"
        },
        "outputId": "19336037-d5c0-4d33-8a39-921a34fd4a71"
      },
      "outputs": [
        {
          "output_type": "stream",
          "name": "stdout",
          "text": [
            "Looking in indexes: https://pypi.org/simple, https://us-python.pkg.dev/colab-wheels/public/simple/\n",
            "Collecting lightfm\n",
            "  Downloading lightfm-1.16.tar.gz (310 kB)\n",
            "\u001b[2K     \u001b[90m━━━━━━━━━━━━━━━━━━━━━━━━━━━━━━━━━━━━━━━\u001b[0m \u001b[32m310.1/310.1 KB\u001b[0m \u001b[31m5.6 MB/s\u001b[0m eta \u001b[36m0:00:00\u001b[0m\n",
            "\u001b[?25h  Preparing metadata (setup.py) ... \u001b[?25l\u001b[?25hdone\n",
            "Requirement already satisfied: numpy in /usr/local/lib/python3.8/dist-packages (from lightfm) (1.21.6)\n",
            "Requirement already satisfied: scipy>=0.17.0 in /usr/local/lib/python3.8/dist-packages (from lightfm) (1.7.3)\n",
            "Requirement already satisfied: requests in /usr/local/lib/python3.8/dist-packages (from lightfm) (2.25.1)\n",
            "Requirement already satisfied: scikit-learn in /usr/local/lib/python3.8/dist-packages (from lightfm) (1.0.2)\n",
            "Requirement already satisfied: chardet<5,>=3.0.2 in /usr/local/lib/python3.8/dist-packages (from requests->lightfm) (4.0.0)\n",
            "Requirement already satisfied: certifi>=2017.4.17 in /usr/local/lib/python3.8/dist-packages (from requests->lightfm) (2022.12.7)\n",
            "Requirement already satisfied: urllib3<1.27,>=1.21.1 in /usr/local/lib/python3.8/dist-packages (from requests->lightfm) (1.24.3)\n",
            "Requirement already satisfied: idna<3,>=2.5 in /usr/local/lib/python3.8/dist-packages (from requests->lightfm) (2.10)\n",
            "Requirement already satisfied: joblib>=0.11 in /usr/local/lib/python3.8/dist-packages (from scikit-learn->lightfm) (1.2.0)\n",
            "Requirement already satisfied: threadpoolctl>=2.0.0 in /usr/local/lib/python3.8/dist-packages (from scikit-learn->lightfm) (3.1.0)\n",
            "Building wheels for collected packages: lightfm\n",
            "  Building wheel for lightfm (setup.py) ... \u001b[?25l\u001b[?25hdone\n",
            "  Created wheel for lightfm: filename=lightfm-1.16-cp38-cp38-linux_x86_64.whl size=917955 sha256=f8e5dde7e83653128aecb383da5bdfe8c022c9fc335b8aadd97c6d46671ed50b\n",
            "  Stored in directory: /root/.cache/pip/wheels/ec/bb/51/9c487d021c1373b691d13cadca0b65b6852627b1f3f43550fa\n",
            "Successfully built lightfm\n",
            "Installing collected packages: lightfm\n",
            "Successfully installed lightfm-1.16\n"
          ]
        }
      ],
      "source": [
        "!pip install lightfm\n",
        "from lightfm.data import Dataset\n",
        "\n",
        "import pandas as pd\n",
        "import numpy as np\n",
        "import pickle\n",
        "import datetime as d\n",
        "\n",
        "import matplotlib.pyplot as plt\n",
        "import seaborn as sns"
      ]
    },
    {
      "cell_type": "code",
      "execution_count": null,
      "metadata": {
        "colab": {
          "base_uri": "https://localhost:8080/"
        },
        "id": "RlHUwYY_k0XU",
        "outputId": "c488f98b-4ddf-4bce-e0a8-cdd757a1a70c"
      },
      "outputs": [
        {
          "output_type": "stream",
          "name": "stdout",
          "text": [
            "Mounted at /content/gdrive\n"
          ]
        }
      ],
      "source": [
        "from google.colab import drive\n",
        "drive.mount('/content/gdrive')"
      ]
    },
    {
      "cell_type": "code",
      "execution_count": null,
      "metadata": {
        "colab": {
          "base_uri": "https://localhost:8080/",
          "height": 380
        },
        "id": "EXR3LmeoyWLL",
        "outputId": "27f7ae54-26b7-4e03-bb1b-9216191b42f1"
      },
      "outputs": [
        {
          "output_type": "stream",
          "name": "stdout",
          "text": [
            "(6156534, 7)\n"
          ]
        },
        {
          "output_type": "execute_result",
          "data": {
            "text/plain": [
              "             datetime ticker  amount   price     user         cf       date\n",
              "0 2015-11-17 18:36:00   NLMK    1090  71.370  1_62009 -77793.300 2015-11-17\n",
              "1 2015-11-17 18:36:00   NLMK     270  71.390  1_62009 -19275.300 2015-11-17\n",
              "2 2015-11-17 18:37:00   NLMK      60  71.370  1_62009  -4282.200 2015-11-17\n",
              "3 2015-12-09 12:55:00   MTLR       1  62.650  1_62009    -62.650 2015-12-09\n",
              "4 2015-12-09 12:56:00   MTLR       1  62.650  1_62009    -62.650 2015-12-09\n",
              "5 2015-12-09 12:56:00   MTLR       1  62.650  1_62009    -62.650 2015-12-09\n",
              "6 2015-12-09 12:56:00   MTLR       1  62.640  1_62009    -62.640 2015-12-09\n",
              "7 2015-12-14 10:37:00   MTLR      -4  65.180  1_62009    260.720 2015-12-14\n",
              "8 2015-10-26 16:45:00   GAZP      70 138.000  1_62125  -9660.000 2015-10-26\n",
              "9 2015-10-26 16:45:00   GAZP     100 138.000  1_62125 -13800.000 2015-10-26"
            ],
            "text/html": [
              "\n",
              "  <div id=\"df-98dbfbde-54df-48f1-8112-0bc21fe599b8\">\n",
              "    <div class=\"colab-df-container\">\n",
              "      <div>\n",
              "<style scoped>\n",
              "    .dataframe tbody tr th:only-of-type {\n",
              "        vertical-align: middle;\n",
              "    }\n",
              "\n",
              "    .dataframe tbody tr th {\n",
              "        vertical-align: top;\n",
              "    }\n",
              "\n",
              "    .dataframe thead th {\n",
              "        text-align: right;\n",
              "    }\n",
              "</style>\n",
              "<table border=\"1\" class=\"dataframe\">\n",
              "  <thead>\n",
              "    <tr style=\"text-align: right;\">\n",
              "      <th></th>\n",
              "      <th>datetime</th>\n",
              "      <th>ticker</th>\n",
              "      <th>amount</th>\n",
              "      <th>price</th>\n",
              "      <th>user</th>\n",
              "      <th>cf</th>\n",
              "      <th>date</th>\n",
              "    </tr>\n",
              "  </thead>\n",
              "  <tbody>\n",
              "    <tr>\n",
              "      <th>0</th>\n",
              "      <td>2015-11-17 18:36:00</td>\n",
              "      <td>NLMK</td>\n",
              "      <td>1090</td>\n",
              "      <td>71.370</td>\n",
              "      <td>1_62009</td>\n",
              "      <td>-77793.300</td>\n",
              "      <td>2015-11-17</td>\n",
              "    </tr>\n",
              "    <tr>\n",
              "      <th>1</th>\n",
              "      <td>2015-11-17 18:36:00</td>\n",
              "      <td>NLMK</td>\n",
              "      <td>270</td>\n",
              "      <td>71.390</td>\n",
              "      <td>1_62009</td>\n",
              "      <td>-19275.300</td>\n",
              "      <td>2015-11-17</td>\n",
              "    </tr>\n",
              "    <tr>\n",
              "      <th>2</th>\n",
              "      <td>2015-11-17 18:37:00</td>\n",
              "      <td>NLMK</td>\n",
              "      <td>60</td>\n",
              "      <td>71.370</td>\n",
              "      <td>1_62009</td>\n",
              "      <td>-4282.200</td>\n",
              "      <td>2015-11-17</td>\n",
              "    </tr>\n",
              "    <tr>\n",
              "      <th>3</th>\n",
              "      <td>2015-12-09 12:55:00</td>\n",
              "      <td>MTLR</td>\n",
              "      <td>1</td>\n",
              "      <td>62.650</td>\n",
              "      <td>1_62009</td>\n",
              "      <td>-62.650</td>\n",
              "      <td>2015-12-09</td>\n",
              "    </tr>\n",
              "    <tr>\n",
              "      <th>4</th>\n",
              "      <td>2015-12-09 12:56:00</td>\n",
              "      <td>MTLR</td>\n",
              "      <td>1</td>\n",
              "      <td>62.650</td>\n",
              "      <td>1_62009</td>\n",
              "      <td>-62.650</td>\n",
              "      <td>2015-12-09</td>\n",
              "    </tr>\n",
              "    <tr>\n",
              "      <th>5</th>\n",
              "      <td>2015-12-09 12:56:00</td>\n",
              "      <td>MTLR</td>\n",
              "      <td>1</td>\n",
              "      <td>62.650</td>\n",
              "      <td>1_62009</td>\n",
              "      <td>-62.650</td>\n",
              "      <td>2015-12-09</td>\n",
              "    </tr>\n",
              "    <tr>\n",
              "      <th>6</th>\n",
              "      <td>2015-12-09 12:56:00</td>\n",
              "      <td>MTLR</td>\n",
              "      <td>1</td>\n",
              "      <td>62.640</td>\n",
              "      <td>1_62009</td>\n",
              "      <td>-62.640</td>\n",
              "      <td>2015-12-09</td>\n",
              "    </tr>\n",
              "    <tr>\n",
              "      <th>7</th>\n",
              "      <td>2015-12-14 10:37:00</td>\n",
              "      <td>MTLR</td>\n",
              "      <td>-4</td>\n",
              "      <td>65.180</td>\n",
              "      <td>1_62009</td>\n",
              "      <td>260.720</td>\n",
              "      <td>2015-12-14</td>\n",
              "    </tr>\n",
              "    <tr>\n",
              "      <th>8</th>\n",
              "      <td>2015-10-26 16:45:00</td>\n",
              "      <td>GAZP</td>\n",
              "      <td>70</td>\n",
              "      <td>138.000</td>\n",
              "      <td>1_62125</td>\n",
              "      <td>-9660.000</td>\n",
              "      <td>2015-10-26</td>\n",
              "    </tr>\n",
              "    <tr>\n",
              "      <th>9</th>\n",
              "      <td>2015-10-26 16:45:00</td>\n",
              "      <td>GAZP</td>\n",
              "      <td>100</td>\n",
              "      <td>138.000</td>\n",
              "      <td>1_62125</td>\n",
              "      <td>-13800.000</td>\n",
              "      <td>2015-10-26</td>\n",
              "    </tr>\n",
              "  </tbody>\n",
              "</table>\n",
              "</div>\n",
              "      <button class=\"colab-df-convert\" onclick=\"convertToInteractive('df-98dbfbde-54df-48f1-8112-0bc21fe599b8')\"\n",
              "              title=\"Convert this dataframe to an interactive table.\"\n",
              "              style=\"display:none;\">\n",
              "        \n",
              "  <svg xmlns=\"http://www.w3.org/2000/svg\" height=\"24px\"viewBox=\"0 0 24 24\"\n",
              "       width=\"24px\">\n",
              "    <path d=\"M0 0h24v24H0V0z\" fill=\"none\"/>\n",
              "    <path d=\"M18.56 5.44l.94 2.06.94-2.06 2.06-.94-2.06-.94-.94-2.06-.94 2.06-2.06.94zm-11 1L8.5 8.5l.94-2.06 2.06-.94-2.06-.94L8.5 2.5l-.94 2.06-2.06.94zm10 10l.94 2.06.94-2.06 2.06-.94-2.06-.94-.94-2.06-.94 2.06-2.06.94z\"/><path d=\"M17.41 7.96l-1.37-1.37c-.4-.4-.92-.59-1.43-.59-.52 0-1.04.2-1.43.59L10.3 9.45l-7.72 7.72c-.78.78-.78 2.05 0 2.83L4 21.41c.39.39.9.59 1.41.59.51 0 1.02-.2 1.41-.59l7.78-7.78 2.81-2.81c.8-.78.8-2.07 0-2.86zM5.41 20L4 18.59l7.72-7.72 1.47 1.35L5.41 20z\"/>\n",
              "  </svg>\n",
              "      </button>\n",
              "      \n",
              "  <style>\n",
              "    .colab-df-container {\n",
              "      display:flex;\n",
              "      flex-wrap:wrap;\n",
              "      gap: 12px;\n",
              "    }\n",
              "\n",
              "    .colab-df-convert {\n",
              "      background-color: #E8F0FE;\n",
              "      border: none;\n",
              "      border-radius: 50%;\n",
              "      cursor: pointer;\n",
              "      display: none;\n",
              "      fill: #1967D2;\n",
              "      height: 32px;\n",
              "      padding: 0 0 0 0;\n",
              "      width: 32px;\n",
              "    }\n",
              "\n",
              "    .colab-df-convert:hover {\n",
              "      background-color: #E2EBFA;\n",
              "      box-shadow: 0px 1px 2px rgba(60, 64, 67, 0.3), 0px 1px 3px 1px rgba(60, 64, 67, 0.15);\n",
              "      fill: #174EA6;\n",
              "    }\n",
              "\n",
              "    [theme=dark] .colab-df-convert {\n",
              "      background-color: #3B4455;\n",
              "      fill: #D2E3FC;\n",
              "    }\n",
              "\n",
              "    [theme=dark] .colab-df-convert:hover {\n",
              "      background-color: #434B5C;\n",
              "      box-shadow: 0px 1px 3px 1px rgba(0, 0, 0, 0.15);\n",
              "      filter: drop-shadow(0px 1px 2px rgba(0, 0, 0, 0.3));\n",
              "      fill: #FFFFFF;\n",
              "    }\n",
              "  </style>\n",
              "\n",
              "      <script>\n",
              "        const buttonEl =\n",
              "          document.querySelector('#df-98dbfbde-54df-48f1-8112-0bc21fe599b8 button.colab-df-convert');\n",
              "        buttonEl.style.display =\n",
              "          google.colab.kernel.accessAllowed ? 'block' : 'none';\n",
              "\n",
              "        async function convertToInteractive(key) {\n",
              "          const element = document.querySelector('#df-98dbfbde-54df-48f1-8112-0bc21fe599b8');\n",
              "          const dataTable =\n",
              "            await google.colab.kernel.invokeFunction('convertToInteractive',\n",
              "                                                     [key], {});\n",
              "          if (!dataTable) return;\n",
              "\n",
              "          const docLinkHtml = 'Like what you see? Visit the ' +\n",
              "            '<a target=\"_blank\" href=https://colab.research.google.com/notebooks/data_table.ipynb>data table notebook</a>'\n",
              "            + ' to learn more about interactive tables.';\n",
              "          element.innerHTML = '';\n",
              "          dataTable['output_type'] = 'display_data';\n",
              "          await google.colab.output.renderOutput(dataTable, element);\n",
              "          const docLink = document.createElement('div');\n",
              "          docLink.innerHTML = docLinkHtml;\n",
              "          element.appendChild(docLink);\n",
              "        }\n",
              "      </script>\n",
              "    </div>\n",
              "  </div>\n",
              "  "
            ]
          },
          "metadata": {},
          "execution_count": 65
        }
      ],
      "source": [
        "# сбор данных за 2015-2021 года\n",
        "\n",
        "all_years_df = pd.DataFrame([])\n",
        "\n",
        "for year in range(2015, 2022):\n",
        "    with open(f'/content/gdrive/MyDrive/Colab Notebooks/Data/df_{year}_cleaned.pickle', \"rb\") as file:\n",
        "      df_years = pickle.load(file)\n",
        "    all_years_df = all_years_df.append(df_years, ignore_index=True)\n",
        "\n",
        "all_years_df.rename(columns={\"deals\": \"amount\"}, inplace=True)\n",
        "\n",
        "print(all_years_df.shape)\n",
        "all_years_df.head(10)"
      ]
    },
    {
      "cell_type": "code",
      "source": [
        "# сбор данных за 2021 год\n",
        "df_2022 = pd.read_csv(\"/content/stock_market_trades (1).csv\", sep=\";\")\n",
        "df_2022.sample(10)"
      ],
      "metadata": {
        "colab": {
          "base_uri": "https://localhost:8080/",
          "height": 363
        },
        "id": "PPX0Wg7Tg5jz",
        "outputId": "88d7607b-0b35-4c01-d334-eb8412ecd0c3"
      },
      "execution_count": null,
      "outputs": [
        {
          "output_type": "execute_result",
          "data": {
            "text/plain": [
              "           id                timestamp ticker   amount    price\n",
              "14450  311044  2022-11-10 11:00:00.000   ALRS 2210.000   65.090\n",
              "18767  312767  2022-11-22 16:27:00.000   AFKS 3500.000   12.750\n",
              "42539  311454  2022-09-29 13:44:00.000   NVTK   10.000  946.800\n",
              "44213  311454  2022-09-30 10:11:00.000   NVTK -157.000  970.400\n",
              "20884  311483  2022-10-07 20:25:00.000   PHOR    1.000 5777.000\n",
              "37826  311454  2022-09-26 17:15:00.000   LKOH   -1.000 3817.000\n",
              "42414  311454  2022-09-29 13:33:00.000   NVTK -100.000  948.600\n",
              "832    310207  2022-09-16 10:00:00.000   NVTK    7.000 1192.400\n",
              "15064  312767  2022-09-30 13:25:00.000   MAGN -100.000   22.940\n",
              "31243  311454  2022-09-20 20:14:00.000   GAZP  300.000  218.490"
            ],
            "text/html": [
              "\n",
              "  <div id=\"df-b4430c2f-f280-48f7-b933-65e4ffa889c4\">\n",
              "    <div class=\"colab-df-container\">\n",
              "      <div>\n",
              "<style scoped>\n",
              "    .dataframe tbody tr th:only-of-type {\n",
              "        vertical-align: middle;\n",
              "    }\n",
              "\n",
              "    .dataframe tbody tr th {\n",
              "        vertical-align: top;\n",
              "    }\n",
              "\n",
              "    .dataframe thead th {\n",
              "        text-align: right;\n",
              "    }\n",
              "</style>\n",
              "<table border=\"1\" class=\"dataframe\">\n",
              "  <thead>\n",
              "    <tr style=\"text-align: right;\">\n",
              "      <th></th>\n",
              "      <th>id</th>\n",
              "      <th>timestamp</th>\n",
              "      <th>ticker</th>\n",
              "      <th>amount</th>\n",
              "      <th>price</th>\n",
              "    </tr>\n",
              "  </thead>\n",
              "  <tbody>\n",
              "    <tr>\n",
              "      <th>14450</th>\n",
              "      <td>311044</td>\n",
              "      <td>2022-11-10 11:00:00.000</td>\n",
              "      <td>ALRS</td>\n",
              "      <td>2210.000</td>\n",
              "      <td>65.090</td>\n",
              "    </tr>\n",
              "    <tr>\n",
              "      <th>18767</th>\n",
              "      <td>312767</td>\n",
              "      <td>2022-11-22 16:27:00.000</td>\n",
              "      <td>AFKS</td>\n",
              "      <td>3500.000</td>\n",
              "      <td>12.750</td>\n",
              "    </tr>\n",
              "    <tr>\n",
              "      <th>42539</th>\n",
              "      <td>311454</td>\n",
              "      <td>2022-09-29 13:44:00.000</td>\n",
              "      <td>NVTK</td>\n",
              "      <td>10.000</td>\n",
              "      <td>946.800</td>\n",
              "    </tr>\n",
              "    <tr>\n",
              "      <th>44213</th>\n",
              "      <td>311454</td>\n",
              "      <td>2022-09-30 10:11:00.000</td>\n",
              "      <td>NVTK</td>\n",
              "      <td>-157.000</td>\n",
              "      <td>970.400</td>\n",
              "    </tr>\n",
              "    <tr>\n",
              "      <th>20884</th>\n",
              "      <td>311483</td>\n",
              "      <td>2022-10-07 20:25:00.000</td>\n",
              "      <td>PHOR</td>\n",
              "      <td>1.000</td>\n",
              "      <td>5777.000</td>\n",
              "    </tr>\n",
              "    <tr>\n",
              "      <th>37826</th>\n",
              "      <td>311454</td>\n",
              "      <td>2022-09-26 17:15:00.000</td>\n",
              "      <td>LKOH</td>\n",
              "      <td>-1.000</td>\n",
              "      <td>3817.000</td>\n",
              "    </tr>\n",
              "    <tr>\n",
              "      <th>42414</th>\n",
              "      <td>311454</td>\n",
              "      <td>2022-09-29 13:33:00.000</td>\n",
              "      <td>NVTK</td>\n",
              "      <td>-100.000</td>\n",
              "      <td>948.600</td>\n",
              "    </tr>\n",
              "    <tr>\n",
              "      <th>832</th>\n",
              "      <td>310207</td>\n",
              "      <td>2022-09-16 10:00:00.000</td>\n",
              "      <td>NVTK</td>\n",
              "      <td>7.000</td>\n",
              "      <td>1192.400</td>\n",
              "    </tr>\n",
              "    <tr>\n",
              "      <th>15064</th>\n",
              "      <td>312767</td>\n",
              "      <td>2022-09-30 13:25:00.000</td>\n",
              "      <td>MAGN</td>\n",
              "      <td>-100.000</td>\n",
              "      <td>22.940</td>\n",
              "    </tr>\n",
              "    <tr>\n",
              "      <th>31243</th>\n",
              "      <td>311454</td>\n",
              "      <td>2022-09-20 20:14:00.000</td>\n",
              "      <td>GAZP</td>\n",
              "      <td>300.000</td>\n",
              "      <td>218.490</td>\n",
              "    </tr>\n",
              "  </tbody>\n",
              "</table>\n",
              "</div>\n",
              "      <button class=\"colab-df-convert\" onclick=\"convertToInteractive('df-b4430c2f-f280-48f7-b933-65e4ffa889c4')\"\n",
              "              title=\"Convert this dataframe to an interactive table.\"\n",
              "              style=\"display:none;\">\n",
              "        \n",
              "  <svg xmlns=\"http://www.w3.org/2000/svg\" height=\"24px\"viewBox=\"0 0 24 24\"\n",
              "       width=\"24px\">\n",
              "    <path d=\"M0 0h24v24H0V0z\" fill=\"none\"/>\n",
              "    <path d=\"M18.56 5.44l.94 2.06.94-2.06 2.06-.94-2.06-.94-.94-2.06-.94 2.06-2.06.94zm-11 1L8.5 8.5l.94-2.06 2.06-.94-2.06-.94L8.5 2.5l-.94 2.06-2.06.94zm10 10l.94 2.06.94-2.06 2.06-.94-2.06-.94-.94-2.06-.94 2.06-2.06.94z\"/><path d=\"M17.41 7.96l-1.37-1.37c-.4-.4-.92-.59-1.43-.59-.52 0-1.04.2-1.43.59L10.3 9.45l-7.72 7.72c-.78.78-.78 2.05 0 2.83L4 21.41c.39.39.9.59 1.41.59.51 0 1.02-.2 1.41-.59l7.78-7.78 2.81-2.81c.8-.78.8-2.07 0-2.86zM5.41 20L4 18.59l7.72-7.72 1.47 1.35L5.41 20z\"/>\n",
              "  </svg>\n",
              "      </button>\n",
              "      \n",
              "  <style>\n",
              "    .colab-df-container {\n",
              "      display:flex;\n",
              "      flex-wrap:wrap;\n",
              "      gap: 12px;\n",
              "    }\n",
              "\n",
              "    .colab-df-convert {\n",
              "      background-color: #E8F0FE;\n",
              "      border: none;\n",
              "      border-radius: 50%;\n",
              "      cursor: pointer;\n",
              "      display: none;\n",
              "      fill: #1967D2;\n",
              "      height: 32px;\n",
              "      padding: 0 0 0 0;\n",
              "      width: 32px;\n",
              "    }\n",
              "\n",
              "    .colab-df-convert:hover {\n",
              "      background-color: #E2EBFA;\n",
              "      box-shadow: 0px 1px 2px rgba(60, 64, 67, 0.3), 0px 1px 3px 1px rgba(60, 64, 67, 0.15);\n",
              "      fill: #174EA6;\n",
              "    }\n",
              "\n",
              "    [theme=dark] .colab-df-convert {\n",
              "      background-color: #3B4455;\n",
              "      fill: #D2E3FC;\n",
              "    }\n",
              "\n",
              "    [theme=dark] .colab-df-convert:hover {\n",
              "      background-color: #434B5C;\n",
              "      box-shadow: 0px 1px 3px 1px rgba(0, 0, 0, 0.15);\n",
              "      filter: drop-shadow(0px 1px 2px rgba(0, 0, 0, 0.3));\n",
              "      fill: #FFFFFF;\n",
              "    }\n",
              "  </style>\n",
              "\n",
              "      <script>\n",
              "        const buttonEl =\n",
              "          document.querySelector('#df-b4430c2f-f280-48f7-b933-65e4ffa889c4 button.colab-df-convert');\n",
              "        buttonEl.style.display =\n",
              "          google.colab.kernel.accessAllowed ? 'block' : 'none';\n",
              "\n",
              "        async function convertToInteractive(key) {\n",
              "          const element = document.querySelector('#df-b4430c2f-f280-48f7-b933-65e4ffa889c4');\n",
              "          const dataTable =\n",
              "            await google.colab.kernel.invokeFunction('convertToInteractive',\n",
              "                                                     [key], {});\n",
              "          if (!dataTable) return;\n",
              "\n",
              "          const docLinkHtml = 'Like what you see? Visit the ' +\n",
              "            '<a target=\"_blank\" href=https://colab.research.google.com/notebooks/data_table.ipynb>data table notebook</a>'\n",
              "            + ' to learn more about interactive tables.';\n",
              "          element.innerHTML = '';\n",
              "          dataTable['output_type'] = 'display_data';\n",
              "          await google.colab.output.renderOutput(dataTable, element);\n",
              "          const docLink = document.createElement('div');\n",
              "          docLink.innerHTML = docLinkHtml;\n",
              "          element.appendChild(docLink);\n",
              "        }\n",
              "      </script>\n",
              "    </div>\n",
              "  </div>\n",
              "  "
            ]
          },
          "metadata": {},
          "execution_count": 62
        }
      ]
    },
    {
      "cell_type": "code",
      "execution_count": null,
      "metadata": {
        "id": "TOvssBH2G3Oq"
      },
      "outputs": [],
      "source": [
        "# обработка и создание фич\n",
        "df_2022[\"timestamp\"] = pd.to_datetime(df_2022[\"timestamp\"])\n",
        "df_2022[\"date\"] = pd.to_datetime([d.date() for d in df_2022[\"timestamp\"]])\n",
        "df_2022[\"cf\"] = -df_2022[\"amount\"]*df_2022[\"price\"]\n",
        "\n",
        "df_2022 = df_2022.reindex(columns=[\"timestamp\", \"ticker\", \"amount\", \"price\", \"id\", \"cf\", \"date\"])\n",
        "df_2022.rename(columns={\"id\": \"user\", \"timestamp\": \"datetime\"}, inplace=True)\n",
        "df_2022[\"user\"] = df_2022[\"user\"].astype(str)"
      ]
    },
    {
      "cell_type": "code",
      "execution_count": null,
      "metadata": {
        "colab": {
          "base_uri": "https://localhost:8080/",
          "height": 663
        },
        "id": "oUA8_hbacTzV",
        "outputId": "dde881fb-ddde-4a5f-e254-a42fc8d421d0"
      },
      "outputs": [
        {
          "output_type": "stream",
          "name": "stdout",
          "text": [
            "(6201671, 7)\n"
          ]
        },
        {
          "output_type": "execute_result",
          "data": {
            "text/plain": [
              "                   datetime ticker     amount         price      user  \\\n",
              "3520208 2018-12-19 16:52:00   HYDR   200000.0       0.48120  1_183759   \n",
              "3795624 2018-12-19 18:16:00   SBER     -100.0     188.60000  1_190943   \n",
              "6677    2022-10-17 15:46:00   LNZL       -1.0   11090.00000    311253   \n",
              "535442  2015-10-14 15:17:00   SBER   -39310.0      85.49000   1_52623   \n",
              "2488819 2016-12-06 11:16:00   MAGN      100.0      34.33000   1_93587   \n",
              "6059725 2021-09-21 19:15:00   GAZP       20.0     336.34000  1_285608   \n",
              "4133547 2019-12-18 15:48:00   MTLR        1.0      60.80000  1_210819   \n",
              "5249666 2020-11-06 11:06:00   AFLT     3240.0      59.26000  1_249715   \n",
              "1910064 2016-10-26 12:39:00   VTBR    10000.0       0.06882   1_90390   \n",
              "5032039 2020-10-07 14:45:00   PHOR       36.0    2882.00000  1_237927   \n",
              "2736227 2017-10-16 10:08:00  TRNFP       -1.0  179500.00000  1_151409   \n",
              "5361808 2020-11-13 11:41:00   ROSN      100.0     411.65000  1_243009   \n",
              "4797540 2020-10-07 12:54:00   AFKS    -5000.0      23.58000  1_238325   \n",
              "1828249 2016-11-14 15:46:00   NLMK     -210.0     117.42000   1_97619   \n",
              "38820   2015-10-15 15:25:00   MAGN     3800.0      20.21300   1_53684   \n",
              "846109  2015-11-17 13:04:00   MGNT        4.0   11382.00000   1_49916   \n",
              "1650939 2016-11-02 10:59:00   SBER     -100.0     145.60000   1_95512   \n",
              "43834   2015-10-23 10:01:00   GAZP     5000.0     139.93000   1_49893   \n",
              "3418728 2018-12-14 16:08:00   HYDR -1625000.0       0.49270  1_182889   \n",
              "\n",
              "                cf       date  \n",
              "3520208   -96240.0 2018-12-19  \n",
              "3795624    18860.0 2018-12-19  \n",
              "6677       11090.0 2022-10-17  \n",
              "535442   3360611.9 2015-10-14  \n",
              "2488819    -3433.0 2016-12-06  \n",
              "6059725    -6726.8 2021-09-21  \n",
              "4133547      -60.8 2019-12-18  \n",
              "5249666  -192002.4 2020-11-06  \n",
              "1910064     -688.2 2016-10-26  \n",
              "5032039  -103752.0 2020-10-07  \n",
              "2736227   179500.0 2017-10-16  \n",
              "5361808   -41165.0 2020-11-13  \n",
              "4797540   117900.0 2020-10-07  \n",
              "1828249    24658.2 2016-11-14  \n",
              "38820     -76809.4 2015-10-15  \n",
              "846109    -45528.0 2015-11-17  \n",
              "1650939    14560.0 2016-11-02  \n",
              "43834    -699650.0 2015-10-23  \n",
              "3418728   800637.5 2018-12-14  "
            ],
            "text/html": [
              "\n",
              "  <div id=\"df-27fc96b1-a5d4-4af4-9472-25e8e4f4c500\">\n",
              "    <div class=\"colab-df-container\">\n",
              "      <div>\n",
              "<style scoped>\n",
              "    .dataframe tbody tr th:only-of-type {\n",
              "        vertical-align: middle;\n",
              "    }\n",
              "\n",
              "    .dataframe tbody tr th {\n",
              "        vertical-align: top;\n",
              "    }\n",
              "\n",
              "    .dataframe thead th {\n",
              "        text-align: right;\n",
              "    }\n",
              "</style>\n",
              "<table border=\"1\" class=\"dataframe\">\n",
              "  <thead>\n",
              "    <tr style=\"text-align: right;\">\n",
              "      <th></th>\n",
              "      <th>datetime</th>\n",
              "      <th>ticker</th>\n",
              "      <th>amount</th>\n",
              "      <th>price</th>\n",
              "      <th>user</th>\n",
              "      <th>cf</th>\n",
              "      <th>date</th>\n",
              "    </tr>\n",
              "  </thead>\n",
              "  <tbody>\n",
              "    <tr>\n",
              "      <th>3520208</th>\n",
              "      <td>2018-12-19 16:52:00</td>\n",
              "      <td>HYDR</td>\n",
              "      <td>200000.0</td>\n",
              "      <td>0.48120</td>\n",
              "      <td>1_183759</td>\n",
              "      <td>-96240.0</td>\n",
              "      <td>2018-12-19</td>\n",
              "    </tr>\n",
              "    <tr>\n",
              "      <th>3795624</th>\n",
              "      <td>2018-12-19 18:16:00</td>\n",
              "      <td>SBER</td>\n",
              "      <td>-100.0</td>\n",
              "      <td>188.60000</td>\n",
              "      <td>1_190943</td>\n",
              "      <td>18860.0</td>\n",
              "      <td>2018-12-19</td>\n",
              "    </tr>\n",
              "    <tr>\n",
              "      <th>6677</th>\n",
              "      <td>2022-10-17 15:46:00</td>\n",
              "      <td>LNZL</td>\n",
              "      <td>-1.0</td>\n",
              "      <td>11090.00000</td>\n",
              "      <td>311253</td>\n",
              "      <td>11090.0</td>\n",
              "      <td>2022-10-17</td>\n",
              "    </tr>\n",
              "    <tr>\n",
              "      <th>535442</th>\n",
              "      <td>2015-10-14 15:17:00</td>\n",
              "      <td>SBER</td>\n",
              "      <td>-39310.0</td>\n",
              "      <td>85.49000</td>\n",
              "      <td>1_52623</td>\n",
              "      <td>3360611.9</td>\n",
              "      <td>2015-10-14</td>\n",
              "    </tr>\n",
              "    <tr>\n",
              "      <th>2488819</th>\n",
              "      <td>2016-12-06 11:16:00</td>\n",
              "      <td>MAGN</td>\n",
              "      <td>100.0</td>\n",
              "      <td>34.33000</td>\n",
              "      <td>1_93587</td>\n",
              "      <td>-3433.0</td>\n",
              "      <td>2016-12-06</td>\n",
              "    </tr>\n",
              "    <tr>\n",
              "      <th>6059725</th>\n",
              "      <td>2021-09-21 19:15:00</td>\n",
              "      <td>GAZP</td>\n",
              "      <td>20.0</td>\n",
              "      <td>336.34000</td>\n",
              "      <td>1_285608</td>\n",
              "      <td>-6726.8</td>\n",
              "      <td>2021-09-21</td>\n",
              "    </tr>\n",
              "    <tr>\n",
              "      <th>4133547</th>\n",
              "      <td>2019-12-18 15:48:00</td>\n",
              "      <td>MTLR</td>\n",
              "      <td>1.0</td>\n",
              "      <td>60.80000</td>\n",
              "      <td>1_210819</td>\n",
              "      <td>-60.8</td>\n",
              "      <td>2019-12-18</td>\n",
              "    </tr>\n",
              "    <tr>\n",
              "      <th>5249666</th>\n",
              "      <td>2020-11-06 11:06:00</td>\n",
              "      <td>AFLT</td>\n",
              "      <td>3240.0</td>\n",
              "      <td>59.26000</td>\n",
              "      <td>1_249715</td>\n",
              "      <td>-192002.4</td>\n",
              "      <td>2020-11-06</td>\n",
              "    </tr>\n",
              "    <tr>\n",
              "      <th>1910064</th>\n",
              "      <td>2016-10-26 12:39:00</td>\n",
              "      <td>VTBR</td>\n",
              "      <td>10000.0</td>\n",
              "      <td>0.06882</td>\n",
              "      <td>1_90390</td>\n",
              "      <td>-688.2</td>\n",
              "      <td>2016-10-26</td>\n",
              "    </tr>\n",
              "    <tr>\n",
              "      <th>5032039</th>\n",
              "      <td>2020-10-07 14:45:00</td>\n",
              "      <td>PHOR</td>\n",
              "      <td>36.0</td>\n",
              "      <td>2882.00000</td>\n",
              "      <td>1_237927</td>\n",
              "      <td>-103752.0</td>\n",
              "      <td>2020-10-07</td>\n",
              "    </tr>\n",
              "    <tr>\n",
              "      <th>2736227</th>\n",
              "      <td>2017-10-16 10:08:00</td>\n",
              "      <td>TRNFP</td>\n",
              "      <td>-1.0</td>\n",
              "      <td>179500.00000</td>\n",
              "      <td>1_151409</td>\n",
              "      <td>179500.0</td>\n",
              "      <td>2017-10-16</td>\n",
              "    </tr>\n",
              "    <tr>\n",
              "      <th>5361808</th>\n",
              "      <td>2020-11-13 11:41:00</td>\n",
              "      <td>ROSN</td>\n",
              "      <td>100.0</td>\n",
              "      <td>411.65000</td>\n",
              "      <td>1_243009</td>\n",
              "      <td>-41165.0</td>\n",
              "      <td>2020-11-13</td>\n",
              "    </tr>\n",
              "    <tr>\n",
              "      <th>4797540</th>\n",
              "      <td>2020-10-07 12:54:00</td>\n",
              "      <td>AFKS</td>\n",
              "      <td>-5000.0</td>\n",
              "      <td>23.58000</td>\n",
              "      <td>1_238325</td>\n",
              "      <td>117900.0</td>\n",
              "      <td>2020-10-07</td>\n",
              "    </tr>\n",
              "    <tr>\n",
              "      <th>1828249</th>\n",
              "      <td>2016-11-14 15:46:00</td>\n",
              "      <td>NLMK</td>\n",
              "      <td>-210.0</td>\n",
              "      <td>117.42000</td>\n",
              "      <td>1_97619</td>\n",
              "      <td>24658.2</td>\n",
              "      <td>2016-11-14</td>\n",
              "    </tr>\n",
              "    <tr>\n",
              "      <th>38820</th>\n",
              "      <td>2015-10-15 15:25:00</td>\n",
              "      <td>MAGN</td>\n",
              "      <td>3800.0</td>\n",
              "      <td>20.21300</td>\n",
              "      <td>1_53684</td>\n",
              "      <td>-76809.4</td>\n",
              "      <td>2015-10-15</td>\n",
              "    </tr>\n",
              "    <tr>\n",
              "      <th>846109</th>\n",
              "      <td>2015-11-17 13:04:00</td>\n",
              "      <td>MGNT</td>\n",
              "      <td>4.0</td>\n",
              "      <td>11382.00000</td>\n",
              "      <td>1_49916</td>\n",
              "      <td>-45528.0</td>\n",
              "      <td>2015-11-17</td>\n",
              "    </tr>\n",
              "    <tr>\n",
              "      <th>1650939</th>\n",
              "      <td>2016-11-02 10:59:00</td>\n",
              "      <td>SBER</td>\n",
              "      <td>-100.0</td>\n",
              "      <td>145.60000</td>\n",
              "      <td>1_95512</td>\n",
              "      <td>14560.0</td>\n",
              "      <td>2016-11-02</td>\n",
              "    </tr>\n",
              "    <tr>\n",
              "      <th>43834</th>\n",
              "      <td>2015-10-23 10:01:00</td>\n",
              "      <td>GAZP</td>\n",
              "      <td>5000.0</td>\n",
              "      <td>139.93000</td>\n",
              "      <td>1_49893</td>\n",
              "      <td>-699650.0</td>\n",
              "      <td>2015-10-23</td>\n",
              "    </tr>\n",
              "    <tr>\n",
              "      <th>3418728</th>\n",
              "      <td>2018-12-14 16:08:00</td>\n",
              "      <td>HYDR</td>\n",
              "      <td>-1625000.0</td>\n",
              "      <td>0.49270</td>\n",
              "      <td>1_182889</td>\n",
              "      <td>800637.5</td>\n",
              "      <td>2018-12-14</td>\n",
              "    </tr>\n",
              "  </tbody>\n",
              "</table>\n",
              "</div>\n",
              "      <button class=\"colab-df-convert\" onclick=\"convertToInteractive('df-27fc96b1-a5d4-4af4-9472-25e8e4f4c500')\"\n",
              "              title=\"Convert this dataframe to an interactive table.\"\n",
              "              style=\"display:none;\">\n",
              "        \n",
              "  <svg xmlns=\"http://www.w3.org/2000/svg\" height=\"24px\"viewBox=\"0 0 24 24\"\n",
              "       width=\"24px\">\n",
              "    <path d=\"M0 0h24v24H0V0z\" fill=\"none\"/>\n",
              "    <path d=\"M18.56 5.44l.94 2.06.94-2.06 2.06-.94-2.06-.94-.94-2.06-.94 2.06-2.06.94zm-11 1L8.5 8.5l.94-2.06 2.06-.94-2.06-.94L8.5 2.5l-.94 2.06-2.06.94zm10 10l.94 2.06.94-2.06 2.06-.94-2.06-.94-.94-2.06-.94 2.06-2.06.94z\"/><path d=\"M17.41 7.96l-1.37-1.37c-.4-.4-.92-.59-1.43-.59-.52 0-1.04.2-1.43.59L10.3 9.45l-7.72 7.72c-.78.78-.78 2.05 0 2.83L4 21.41c.39.39.9.59 1.41.59.51 0 1.02-.2 1.41-.59l7.78-7.78 2.81-2.81c.8-.78.8-2.07 0-2.86zM5.41 20L4 18.59l7.72-7.72 1.47 1.35L5.41 20z\"/>\n",
              "  </svg>\n",
              "      </button>\n",
              "      \n",
              "  <style>\n",
              "    .colab-df-container {\n",
              "      display:flex;\n",
              "      flex-wrap:wrap;\n",
              "      gap: 12px;\n",
              "    }\n",
              "\n",
              "    .colab-df-convert {\n",
              "      background-color: #E8F0FE;\n",
              "      border: none;\n",
              "      border-radius: 50%;\n",
              "      cursor: pointer;\n",
              "      display: none;\n",
              "      fill: #1967D2;\n",
              "      height: 32px;\n",
              "      padding: 0 0 0 0;\n",
              "      width: 32px;\n",
              "    }\n",
              "\n",
              "    .colab-df-convert:hover {\n",
              "      background-color: #E2EBFA;\n",
              "      box-shadow: 0px 1px 2px rgba(60, 64, 67, 0.3), 0px 1px 3px 1px rgba(60, 64, 67, 0.15);\n",
              "      fill: #174EA6;\n",
              "    }\n",
              "\n",
              "    [theme=dark] .colab-df-convert {\n",
              "      background-color: #3B4455;\n",
              "      fill: #D2E3FC;\n",
              "    }\n",
              "\n",
              "    [theme=dark] .colab-df-convert:hover {\n",
              "      background-color: #434B5C;\n",
              "      box-shadow: 0px 1px 3px 1px rgba(0, 0, 0, 0.15);\n",
              "      filter: drop-shadow(0px 1px 2px rgba(0, 0, 0, 0.3));\n",
              "      fill: #FFFFFF;\n",
              "    }\n",
              "  </style>\n",
              "\n",
              "      <script>\n",
              "        const buttonEl =\n",
              "          document.querySelector('#df-27fc96b1-a5d4-4af4-9472-25e8e4f4c500 button.colab-df-convert');\n",
              "        buttonEl.style.display =\n",
              "          google.colab.kernel.accessAllowed ? 'block' : 'none';\n",
              "\n",
              "        async function convertToInteractive(key) {\n",
              "          const element = document.querySelector('#df-27fc96b1-a5d4-4af4-9472-25e8e4f4c500');\n",
              "          const dataTable =\n",
              "            await google.colab.kernel.invokeFunction('convertToInteractive',\n",
              "                                                     [key], {});\n",
              "          if (!dataTable) return;\n",
              "\n",
              "          const docLinkHtml = 'Like what you see? Visit the ' +\n",
              "            '<a target=\"_blank\" href=https://colab.research.google.com/notebooks/data_table.ipynb>data table notebook</a>'\n",
              "            + ' to learn more about interactive tables.';\n",
              "          element.innerHTML = '';\n",
              "          dataTable['output_type'] = 'display_data';\n",
              "          await google.colab.output.renderOutput(dataTable, element);\n",
              "          const docLink = document.createElement('div');\n",
              "          docLink.innerHTML = docLinkHtml;\n",
              "          element.appendChild(docLink);\n",
              "        }\n",
              "      </script>\n",
              "    </div>\n",
              "  </div>\n",
              "  "
            ]
          },
          "metadata": {},
          "execution_count": 8
        }
      ],
      "source": [
        "# объединение двух датафреймов\n",
        "\n",
        "df_result=pd.concat([df_2022, all_years_df])\n",
        "\n",
        "print(df_result.shape)\n",
        "df_result.sample(19)"
      ]
    },
    {
      "cell_type": "code",
      "source": [
        "# создание файла с датафреймом\n",
        "df_result.to_csv(\"operations.csv\")"
      ],
      "metadata": {
        "id": "_6krMEc1qRuV"
      },
      "execution_count": null,
      "outputs": []
    },
    {
      "cell_type": "markdown",
      "source": [
        "-------------------------------------------------------------------------------"
      ],
      "metadata": {
        "id": "Y1gaZg0qphAD"
      }
    },
    {
      "cell_type": "markdown",
      "source": [
        "# EDA и начальная обработка данных"
      ],
      "metadata": {
        "id": "25Ni_IL_p56q"
      }
    },
    {
      "cell_type": "code",
      "source": [
        "# df_result = pd.read_csv(\"/content/operations.csv\", index_col=[0])"
      ],
      "metadata": {
        "id": "vsgbpqQhPrjL"
      },
      "execution_count": null,
      "outputs": []
    },
    {
      "cell_type": "code",
      "source": [
        "df_result.user=df_result['user'].astype(str).astype(int)\n",
        "df_result"
      ],
      "metadata": {
        "id": "N26cDXhlotb5"
      },
      "execution_count": null,
      "outputs": []
    },
    {
      "cell_type": "markdown",
      "source": [
        "Проблема с индексами, тк последний индекс != колву строк"
      ],
      "metadata": {
        "id": "E0_hKY2HCEUc"
      }
    },
    {
      "cell_type": "code",
      "source": [
        "# проставляем индексы заново\n",
        "df_result.reset_index(drop = True , inplace = True)"
      ],
      "metadata": {
        "id": "CREHwGJ_CDkc"
      },
      "execution_count": null,
      "outputs": []
    },
    {
      "cell_type": "code",
      "source": [
        "pd.set_option(\"display.float_format\", lambda x: \"%.3f\" % x)\n",
        "df_result.describe().round(3)"
      ],
      "metadata": {
        "colab": {
          "base_uri": "https://localhost:8080/",
          "height": 300
        },
        "id": "OKrSNRU40G-Q",
        "outputId": "c37f7774-3c1a-467b-8396-e6085bbb7f0e"
      },
      "execution_count": null,
      "outputs": [
        {
          "output_type": "execute_result",
          "data": {
            "text/plain": [
              "              amount       price        user             cf  new_ticker  \\\n",
              "count    6201670.000 6201670.000 6201670.000    6201670.000 6201670.000   \n",
              "mean         632.814    1527.748  765326.466        370.330      30.721   \n",
              "std      1070132.644    8616.566  516585.124     382880.280      22.680   \n",
              "min   -369670000.000       0.004  147917.000 -118093092.000       0.000   \n",
              "25%         -100.000      60.410  184801.000     -14475.000      17.000   \n",
              "50%            1.000     141.020 1150989.000       -143.700      23.000   \n",
              "75%          100.000     346.750 1236986.000      14056.000      34.000   \n",
              "max    663320000.000  210450.000 1301502.000  126152240.000     113.000   \n",
              "\n",
              "         new_user      action  \n",
              "count 6201670.000 6201670.000  \n",
              "mean    15751.568       1.000  \n",
              "std      9801.832       0.000  \n",
              "min         0.000       1.000  \n",
              "25%      7684.000       1.000  \n",
              "50%     15086.000       1.000  \n",
              "75%     22517.000       1.000  \n",
              "max     41115.000       1.000  "
            ],
            "text/html": [
              "\n",
              "  <div id=\"df-b2581624-b6d7-4945-b3ee-af3252f4bd19\">\n",
              "    <div class=\"colab-df-container\">\n",
              "      <div>\n",
              "<style scoped>\n",
              "    .dataframe tbody tr th:only-of-type {\n",
              "        vertical-align: middle;\n",
              "    }\n",
              "\n",
              "    .dataframe tbody tr th {\n",
              "        vertical-align: top;\n",
              "    }\n",
              "\n",
              "    .dataframe thead th {\n",
              "        text-align: right;\n",
              "    }\n",
              "</style>\n",
              "<table border=\"1\" class=\"dataframe\">\n",
              "  <thead>\n",
              "    <tr style=\"text-align: right;\">\n",
              "      <th></th>\n",
              "      <th>amount</th>\n",
              "      <th>price</th>\n",
              "      <th>user</th>\n",
              "      <th>cf</th>\n",
              "      <th>new_ticker</th>\n",
              "      <th>new_user</th>\n",
              "      <th>action</th>\n",
              "    </tr>\n",
              "  </thead>\n",
              "  <tbody>\n",
              "    <tr>\n",
              "      <th>count</th>\n",
              "      <td>6201670.000</td>\n",
              "      <td>6201670.000</td>\n",
              "      <td>6201670.000</td>\n",
              "      <td>6201670.000</td>\n",
              "      <td>6201670.000</td>\n",
              "      <td>6201670.000</td>\n",
              "      <td>6201670.000</td>\n",
              "    </tr>\n",
              "    <tr>\n",
              "      <th>mean</th>\n",
              "      <td>632.814</td>\n",
              "      <td>1527.748</td>\n",
              "      <td>765326.466</td>\n",
              "      <td>370.330</td>\n",
              "      <td>30.721</td>\n",
              "      <td>15751.568</td>\n",
              "      <td>1.000</td>\n",
              "    </tr>\n",
              "    <tr>\n",
              "      <th>std</th>\n",
              "      <td>1070132.644</td>\n",
              "      <td>8616.566</td>\n",
              "      <td>516585.124</td>\n",
              "      <td>382880.280</td>\n",
              "      <td>22.680</td>\n",
              "      <td>9801.832</td>\n",
              "      <td>0.000</td>\n",
              "    </tr>\n",
              "    <tr>\n",
              "      <th>min</th>\n",
              "      <td>-369670000.000</td>\n",
              "      <td>0.004</td>\n",
              "      <td>147917.000</td>\n",
              "      <td>-118093092.000</td>\n",
              "      <td>0.000</td>\n",
              "      <td>0.000</td>\n",
              "      <td>1.000</td>\n",
              "    </tr>\n",
              "    <tr>\n",
              "      <th>25%</th>\n",
              "      <td>-100.000</td>\n",
              "      <td>60.410</td>\n",
              "      <td>184801.000</td>\n",
              "      <td>-14475.000</td>\n",
              "      <td>17.000</td>\n",
              "      <td>7684.000</td>\n",
              "      <td>1.000</td>\n",
              "    </tr>\n",
              "    <tr>\n",
              "      <th>50%</th>\n",
              "      <td>1.000</td>\n",
              "      <td>141.020</td>\n",
              "      <td>1150989.000</td>\n",
              "      <td>-143.700</td>\n",
              "      <td>23.000</td>\n",
              "      <td>15086.000</td>\n",
              "      <td>1.000</td>\n",
              "    </tr>\n",
              "    <tr>\n",
              "      <th>75%</th>\n",
              "      <td>100.000</td>\n",
              "      <td>346.750</td>\n",
              "      <td>1236986.000</td>\n",
              "      <td>14056.000</td>\n",
              "      <td>34.000</td>\n",
              "      <td>22517.000</td>\n",
              "      <td>1.000</td>\n",
              "    </tr>\n",
              "    <tr>\n",
              "      <th>max</th>\n",
              "      <td>663320000.000</td>\n",
              "      <td>210450.000</td>\n",
              "      <td>1301502.000</td>\n",
              "      <td>126152240.000</td>\n",
              "      <td>113.000</td>\n",
              "      <td>41115.000</td>\n",
              "      <td>1.000</td>\n",
              "    </tr>\n",
              "  </tbody>\n",
              "</table>\n",
              "</div>\n",
              "      <button class=\"colab-df-convert\" onclick=\"convertToInteractive('df-b2581624-b6d7-4945-b3ee-af3252f4bd19')\"\n",
              "              title=\"Convert this dataframe to an interactive table.\"\n",
              "              style=\"display:none;\">\n",
              "        \n",
              "  <svg xmlns=\"http://www.w3.org/2000/svg\" height=\"24px\"viewBox=\"0 0 24 24\"\n",
              "       width=\"24px\">\n",
              "    <path d=\"M0 0h24v24H0V0z\" fill=\"none\"/>\n",
              "    <path d=\"M18.56 5.44l.94 2.06.94-2.06 2.06-.94-2.06-.94-.94-2.06-.94 2.06-2.06.94zm-11 1L8.5 8.5l.94-2.06 2.06-.94-2.06-.94L8.5 2.5l-.94 2.06-2.06.94zm10 10l.94 2.06.94-2.06 2.06-.94-2.06-.94-.94-2.06-.94 2.06-2.06.94z\"/><path d=\"M17.41 7.96l-1.37-1.37c-.4-.4-.92-.59-1.43-.59-.52 0-1.04.2-1.43.59L10.3 9.45l-7.72 7.72c-.78.78-.78 2.05 0 2.83L4 21.41c.39.39.9.59 1.41.59.51 0 1.02-.2 1.41-.59l7.78-7.78 2.81-2.81c.8-.78.8-2.07 0-2.86zM5.41 20L4 18.59l7.72-7.72 1.47 1.35L5.41 20z\"/>\n",
              "  </svg>\n",
              "      </button>\n",
              "      \n",
              "  <style>\n",
              "    .colab-df-container {\n",
              "      display:flex;\n",
              "      flex-wrap:wrap;\n",
              "      gap: 12px;\n",
              "    }\n",
              "\n",
              "    .colab-df-convert {\n",
              "      background-color: #E8F0FE;\n",
              "      border: none;\n",
              "      border-radius: 50%;\n",
              "      cursor: pointer;\n",
              "      display: none;\n",
              "      fill: #1967D2;\n",
              "      height: 32px;\n",
              "      padding: 0 0 0 0;\n",
              "      width: 32px;\n",
              "    }\n",
              "\n",
              "    .colab-df-convert:hover {\n",
              "      background-color: #E2EBFA;\n",
              "      box-shadow: 0px 1px 2px rgba(60, 64, 67, 0.3), 0px 1px 3px 1px rgba(60, 64, 67, 0.15);\n",
              "      fill: #174EA6;\n",
              "    }\n",
              "\n",
              "    [theme=dark] .colab-df-convert {\n",
              "      background-color: #3B4455;\n",
              "      fill: #D2E3FC;\n",
              "    }\n",
              "\n",
              "    [theme=dark] .colab-df-convert:hover {\n",
              "      background-color: #434B5C;\n",
              "      box-shadow: 0px 1px 3px 1px rgba(0, 0, 0, 0.15);\n",
              "      filter: drop-shadow(0px 1px 2px rgba(0, 0, 0, 0.3));\n",
              "      fill: #FFFFFF;\n",
              "    }\n",
              "  </style>\n",
              "\n",
              "      <script>\n",
              "        const buttonEl =\n",
              "          document.querySelector('#df-b2581624-b6d7-4945-b3ee-af3252f4bd19 button.colab-df-convert');\n",
              "        buttonEl.style.display =\n",
              "          google.colab.kernel.accessAllowed ? 'block' : 'none';\n",
              "\n",
              "        async function convertToInteractive(key) {\n",
              "          const element = document.querySelector('#df-b2581624-b6d7-4945-b3ee-af3252f4bd19');\n",
              "          const dataTable =\n",
              "            await google.colab.kernel.invokeFunction('convertToInteractive',\n",
              "                                                     [key], {});\n",
              "          if (!dataTable) return;\n",
              "\n",
              "          const docLinkHtml = 'Like what you see? Visit the ' +\n",
              "            '<a target=\"_blank\" href=https://colab.research.google.com/notebooks/data_table.ipynb>data table notebook</a>'\n",
              "            + ' to learn more about interactive tables.';\n",
              "          element.innerHTML = '';\n",
              "          dataTable['output_type'] = 'display_data';\n",
              "          await google.colab.output.renderOutput(dataTable, element);\n",
              "          const docLink = document.createElement('div');\n",
              "          docLink.innerHTML = docLinkHtml;\n",
              "          element.appendChild(docLink);\n",
              "        }\n",
              "      </script>\n",
              "    </div>\n",
              "  </div>\n",
              "  "
            ]
          },
          "metadata": {},
          "execution_count": 67
        }
      ]
    },
    {
      "cell_type": "markdown",
      "source": [
        "Видим, что минимальное и максимальное значения сильно отличаются от соответствующих квартилей => в данных должны быть сильные выбросы\n",
        "\n",
        "Средние по фичам тоже отклоняются от медианы в большую сторону по всем фичам => распределение данных ассиметрично по каждой из количественных переменных со смещением моды в левую часть графика распределения"
      ],
      "metadata": {
        "id": "lPtpNjwAE3Ix"
      }
    },
    {
      "cell_type": "code",
      "source": [
        "df_result.isnull().sum()"
      ],
      "metadata": {
        "colab": {
          "base_uri": "https://localhost:8080/"
        },
        "id": "2QDjzCHY0KxA",
        "outputId": "db121086-8642-42f0-ef60-2f78132828a9"
      },
      "execution_count": null,
      "outputs": [
        {
          "output_type": "execute_result",
          "data": {
            "text/plain": [
              "datetime      0\n",
              "ticker        0\n",
              "amount        0\n",
              "price         0\n",
              "user          0\n",
              "cf            0\n",
              "date          0\n",
              "new_ticker    0\n",
              "new_user      0\n",
              "action        0\n",
              "dtype: int64"
            ]
          },
          "metadata": {},
          "execution_count": 68
        }
      ]
    },
    {
      "cell_type": "markdown",
      "source": [
        "Пропусков нет"
      ],
      "metadata": {
        "id": "hXgmhitFsvTZ"
      }
    },
    {
      "cell_type": "code",
      "source": [
        "df_result.dropna(inplace = True)\n",
        "df_result.reset_index(drop = True , inplace = True)"
      ],
      "metadata": {
        "id": "xjadSUHgiE6S"
      },
      "execution_count": null,
      "outputs": []
    },
    {
      "cell_type": "code",
      "source": [
        "buy_count = df_result[df_result.amount>0].shape[0]\n",
        "print(\"Количество покупок акций: \", buy_count)\n",
        "print(\"Количество продаж акций: \", df_result.shape[0]-buy_count)\n",
        "print(\"Количество непроданных акций: \", df_result.shape[0]-2*buy_count)"
      ],
      "metadata": {
        "colab": {
          "base_uri": "https://localhost:8080/"
        },
        "id": "f9NOBDPqyKG1",
        "outputId": "db4b23a3-8154-422a-a577-bf5cedfa2ad8"
      },
      "execution_count": null,
      "outputs": [
        {
          "output_type": "stream",
          "name": "stdout",
          "text": [
            "Количество покупок акций:  3114894\n",
            "Количество продаж акций:  3086776\n",
            "Количество непроданных акций:  -28118\n"
          ]
        }
      ]
    },
    {
      "cell_type": "markdown",
      "source": [
        "Постоим диаграммы размаха"
      ],
      "metadata": {
        "id": "ryNivc6IvBzR"
      }
    },
    {
      "cell_type": "code",
      "source": [
        "df_result.columns"
      ],
      "metadata": {
        "colab": {
          "base_uri": "https://localhost:8080/"
        },
        "id": "yiePfgGrqeii",
        "outputId": "a099c809-6103-475c-ca04-533f75d0f1a4"
      },
      "execution_count": null,
      "outputs": [
        {
          "output_type": "execute_result",
          "data": {
            "text/plain": [
              "Index(['datetime', 'ticker', 'amount', 'price', 'user', 'cf', 'date',\n",
              "       'new_ticker', 'new_user', 'action'],\n",
              "      dtype='object')"
            ]
          },
          "metadata": {},
          "execution_count": 74
        }
      ]
    },
    {
      "cell_type": "code",
      "source": [
        "print(df_result.drop([\"user\"], axis=1).boxplot(figsize=(5, 10)))"
      ],
      "metadata": {
        "colab": {
          "base_uri": "https://localhost:8080/",
          "height": 619
        },
        "id": "HvvN4zfpqUt5",
        "outputId": "e6160dfb-0cfe-4f1b-ea00-e69cf8c6c019"
      },
      "execution_count": null,
      "outputs": [
        {
          "output_type": "stream",
          "name": "stdout",
          "text": [
            "AxesSubplot(0.125,0.125;0.775x0.755)\n"
          ]
        },
        {
          "output_type": "display_data",
          "data": {
            "text/plain": [
              "<Figure size 360x720 with 1 Axes>"
            ],
            "image/png": "[encoded data removed]"
          },
          "metadata": {
            "needs_background": "light"
          }
        }
      ]
    },
    {
      "cell_type": "code",
      "source": [
        "print(df_result.drop([\"amount\", \"cf\", \"user\"], axis=1).boxplot(figsize=(30, 5), vert=False))"
      ],
      "metadata": {
        "id": "9D1cUm19eJ2J",
        "colab": {
          "base_uri": "https://localhost:8080/",
          "height": 357
        },
        "outputId": "2e5b9d8c-51a9-449b-c9c6-5199b4baec6b"
      },
      "execution_count": null,
      "outputs": [
        {
          "output_type": "stream",
          "name": "stdout",
          "text": [
            "AxesSubplot(0.125,0.125;0.775x0.755)\n"
          ]
        },
        {
          "output_type": "display_data",
          "data": {
            "text/plain": [
              "<Figure size 2160x360 with 1 Axes>"
            ],
            "image/png": "[encoded data removed]"
          },
          "metadata": {
            "needs_background": "light"
          }
        }
      ]
    },
    {
      "cell_type": "markdown",
      "source": [
        "В столбцах количественных переменных действительно много выбросов, особенно в цене акций и объеме сделки"
      ],
      "metadata": {
        "id": "XyOz03ckdl5N"
      }
    },
    {
      "cell_type": "code",
      "source": [
        "sns.heatmap(df_result.corr())"
      ],
      "metadata": {
        "colab": {
          "base_uri": "https://localhost:8080/",
          "height": 286
        },
        "id": "YTjzgqX-qUkp",
        "outputId": "e4434e70-837f-4c62-bb1b-dbf1a2db12d8"
      },
      "execution_count": null,
      "outputs": [
        {
          "output_type": "execute_result",
          "data": {
            "text/plain": [
              "<matplotlib.axes._subplots.AxesSubplot at 0x7f6e8babb700>"
            ]
          },
          "metadata": {},
          "execution_count": 31
        },
        {
          "output_type": "display_data",
          "data": {
            "text/plain": [
              "<Figure size 432x288 with 2 Axes>"
            ],
            "image/png": "[encoded data removed]"
          },
          "metadata": {
            "needs_background": "light"
          }
        }
      ]
    },
    {
      "cell_type": "code",
      "source": [
        "corrM = df_result.corr()\n",
        "corrM.user"
      ],
      "metadata": {
        "colab": {
          "base_uri": "https://localhost:8080/"
        },
        "id": "Uis3FOjQcofK",
        "outputId": "bc27de66-fe09-4892-acde-493c9e9d97ea"
      },
      "execution_count": null,
      "outputs": [
        {
          "output_type": "execute_result",
          "data": {
            "text/plain": [
              "amount   0.000\n",
              "price    0.013\n",
              "user     1.000\n",
              "cf       0.000\n",
              "Name: user, dtype: float64"
            ]
          },
          "metadata": {},
          "execution_count": 32
        }
      ]
    },
    {
      "cell_type": "markdown",
      "source": [
        "Все пары фичей мало коррелируют друг с другом; пара с небольшой корреляцией - пользователь и цена акции => пользователи при покупке акций немного ориентируются на ее цену. Еще меньше корреляции между юзером и количеством покупаемых акций, но она незначительна. А между полученной прибылью и пользователем корреляции нет."
      ],
      "metadata": {
        "id": "jEfGJwv4bdKK"
      }
    },
    {
      "cell_type": "markdown",
      "source": [
        "Теперь проанализируем категориальные переменные"
      ],
      "metadata": {
        "id": "AYoTbcNsLHbs"
      }
    },
    {
      "cell_type": "code",
      "source": [
        "print(\"Количество уникальных юзеров: \", df_result[\"user\"].nunique())\n",
        "print(\"Количество уникальных акций: \", df_result[\"ticker\"].nunique())\n",
        "print(\"Среднее количесво операций пользователей: \", df_result.shape[0] / df_result[\"user\"].nunique())\n",
        "print(\"Среднее количество операций с акциями: \", df_result.shape[0] / df_result[\"ticker\"].nunique())"
      ],
      "metadata": {
        "colab": {
          "base_uri": "https://localhost:8080/"
        },
        "id": "TrEhNrI3qUeY",
        "outputId": "a108e2d5-ffc3-419b-f9ea-43e0c098c80a"
      },
      "execution_count": null,
      "outputs": [
        {
          "output_type": "stream",
          "name": "stdout",
          "text": [
            "Количество уникальных юзеров:  41106\n",
            "Количество уникальных акций:  114\n",
            "Среднее количесво операций пользователей:  150.32202111613876\n",
            "Среднее количество операций с акциями:  54202.95614035088\n"
          ]
        }
      ]
    },
    {
      "cell_type": "markdown",
      "source": [
        "Посмотрим разброс активности пользователей по количеству совершенных операций"
      ],
      "metadata": {
        "id": "qOnsEUpeqVaJ"
      }
    },
    {
      "cell_type": "code",
      "source": [
        "user_sort_df = df_result.sort_values(\"user\")\n",
        "oper_count = 0\n",
        "user_oper = []\n",
        "for i in range(0, df_result.shape[0]-1):\n",
        "    if df_result.user[i+1]!=df_result.user[i]:\n",
        "        oper_count += 1\n",
        "        user_oper.append(oper_count)\n",
        "        oper_count = 0\n",
        "    else:\n",
        "        oper_count += 1"
      ],
      "metadata": {
        "id": "iDuqPdqZ-38j"
      },
      "execution_count": null,
      "outputs": []
    },
    {
      "cell_type": "code",
      "source": [
        "if df_result.user[df_result.shape[0]-2]!=df_result.user[df_result.shape[0]-1]:\n",
        "    user_oper.append(1)\n",
        "else:\n",
        "    user_oper[-1]+=1"
      ],
      "metadata": {
        "id": "aab_1UQGt1_v"
      },
      "execution_count": null,
      "outputs": []
    },
    {
      "cell_type": "code",
      "source": [
        "pd.DataFrame(user_oper).boxplot(figsize = (40, 5), vert=False)"
      ],
      "metadata": {
        "colab": {
          "base_uri": "https://localhost:8080/",
          "height": 225
        },
        "id": "_yPAvFHCC-jL",
        "outputId": "865e969b-2390-4862-982b-9d1903cc36cb"
      },
      "execution_count": null,
      "outputs": [
        {
          "output_type": "execute_result",
          "data": {
            "text/plain": [
              "<matplotlib.axes._subplots.AxesSubplot at 0x7f6e0ace9be0>"
            ]
          },
          "metadata": {},
          "execution_count": 49
        },
        {
          "output_type": "display_data",
          "data": {
            "text/plain": [
              "<Figure size 2880x360 with 1 Axes>"
            ],
            "image/png": "[encoded data removed]"
          },
          "metadata": {
            "needs_background": "light"
          }
        }
      ]
    },
    {
      "cell_type": "code",
      "source": [
        "print(pd.DataFrame(user_oper).hist(),\n",
        "      pd.DataFrame(user_oper).hist(range=[0, 3000]),\n",
        "      pd.DataFrame(user_oper).hist(range=[5000, 50000]))"
      ],
      "metadata": {
        "colab": {
          "base_uri": "https://localhost:8080/",
          "height": 846
        },
        "id": "i3i4pGGWMIoN",
        "outputId": "429d21f7-d40a-4124-f43e-26bd6719dcaa"
      },
      "execution_count": null,
      "outputs": [
        {
          "output_type": "stream",
          "name": "stdout",
          "text": [
            "[[<matplotlib.axes._subplots.AxesSubplot object at 0x7fc6fd73cb20>]] [[<matplotlib.axes._subplots.AxesSubplot object at 0x7fc70218fdf0>]] [[<matplotlib.axes._subplots.AxesSubplot object at 0x7fc6fce1e520>]]\n"
          ]
        },
        {
          "output_type": "display_data",
          "data": {
            "text/plain": [
              "<Figure size 432x288 with 1 Axes>"
            ],
            "image/png": "[encoded data removed]"
          },
          "metadata": {
            "needs_background": "light"
          }
        },
        {
          "output_type": "display_data",
          "data": {
            "text/plain": [
              "<Figure size 432x288 with 1 Axes>"
            ],
            "image/png": "[encoded data removed]"
          },
          "metadata": {
            "needs_background": "light"
          }
        },
        {
          "output_type": "display_data",
          "data": {
            "text/plain": [
              "<Figure size 432x288 with 1 Axes>"
            ],
            "image/png": "[encoded data removed]"
          },
          "metadata": {
            "needs_background": "light"
          }
        }
      ]
    },
    {
      "cell_type": "markdown",
      "source": [
        "По гистограммам видно, что большая часть пользователей совершила до 500 операций, при этом есть сильные выбросы - пользователи, у которых от 5000 до 50000 операций с акциями, но их количество ~130."
      ],
      "metadata": {
        "id": "8jxALe-kEX8w"
      }
    },
    {
      "cell_type": "markdown",
      "source": [
        "Теперь посчитаем разброс цен каждой акции"
      ],
      "metadata": {
        "id": "qOA2YYcSTO9c"
      }
    },
    {
      "cell_type": "code",
      "source": [
        "all_tick = dict()\n",
        "range_tickers = dict()\n",
        "for i in range(0, df_result.shape[0]):\n",
        "    if df_result.ticker[i] not in all_tick.keys():\n",
        "        all_tick[df_result.ticker[i]]=[]\n",
        "    all_tick[df_result.ticker[i]].append(df_result.price[i])"
      ],
      "metadata": {
        "id": "C8AL50uuTOC6",
        "colab": {
          "base_uri": "https://localhost:8080/",
          "height": 432
        },
        "outputId": "ca25d83f-aed2-4372-eb30-d5df06945ab9"
      },
      "execution_count": null,
      "outputs": [
        {
          "output_type": "error",
          "ename": "KeyError",
          "evalue": "ignored",
          "traceback": [
            "\u001b[0;31m---------------------------------------------------------------------------\u001b[0m",
            "\u001b[0;31mKeyError\u001b[0m                                  Traceback (most recent call last)",
            "\u001b[0;32m/usr/local/lib/python3.8/dist-packages/pandas/core/indexes/base.py\u001b[0m in \u001b[0;36mget_loc\u001b[0;34m(self, key, method, tolerance)\u001b[0m\n\u001b[1;32m   3360\u001b[0m             \u001b[0;32mtry\u001b[0m\u001b[0;34m:\u001b[0m\u001b[0;34m\u001b[0m\u001b[0;34m\u001b[0m\u001b[0m\n\u001b[0;32m-> 3361\u001b[0;31m                 \u001b[0;32mreturn\u001b[0m \u001b[0mself\u001b[0m\u001b[0;34m.\u001b[0m\u001b[0m_engine\u001b[0m\u001b[0;34m.\u001b[0m\u001b[0mget_loc\u001b[0m\u001b[0;34m(\u001b[0m\u001b[0mcasted_key\u001b[0m\u001b[0;34m)\u001b[0m\u001b[0;34m\u001b[0m\u001b[0;34m\u001b[0m\u001b[0m\n\u001b[0m\u001b[1;32m   3362\u001b[0m             \u001b[0;32mexcept\u001b[0m \u001b[0mKeyError\u001b[0m \u001b[0;32mas\u001b[0m \u001b[0merr\u001b[0m\u001b[0;34m:\u001b[0m\u001b[0;34m\u001b[0m\u001b[0;34m\u001b[0m\u001b[0m\n",
            "\u001b[0;32m/usr/local/lib/python3.8/dist-packages/pandas/_libs/index.pyx\u001b[0m in \u001b[0;36mpandas._libs.index.IndexEngine.get_loc\u001b[0;34m()\u001b[0m\n",
            "\u001b[0;32m/usr/local/lib/python3.8/dist-packages/pandas/_libs/index.pyx\u001b[0m in \u001b[0;36mpandas._libs.index.IndexEngine.get_loc\u001b[0;34m()\u001b[0m\n",
            "\u001b[0;31mKeyError\u001b[0m: 45136",
            "\nThe above exception was the direct cause of the following exception:\n",
            "\u001b[0;31mKeyError\u001b[0m                                  Traceback (most recent call last)",
            "\u001b[0;32m<ipython-input-38-019c4f6c4280>\u001b[0m in \u001b[0;36m<module>\u001b[0;34m\u001b[0m\n\u001b[1;32m      4\u001b[0m     \u001b[0;32mif\u001b[0m \u001b[0mdf\u001b[0m\u001b[0;34m.\u001b[0m\u001b[0mticker\u001b[0m\u001b[0;34m[\u001b[0m\u001b[0mi\u001b[0m\u001b[0;34m]\u001b[0m \u001b[0;32mnot\u001b[0m \u001b[0;32min\u001b[0m \u001b[0mall_tick\u001b[0m\u001b[0;34m.\u001b[0m\u001b[0mkeys\u001b[0m\u001b[0;34m(\u001b[0m\u001b[0;34m)\u001b[0m\u001b[0;34m:\u001b[0m\u001b[0;34m\u001b[0m\u001b[0;34m\u001b[0m\u001b[0m\n\u001b[1;32m      5\u001b[0m         \u001b[0mall_tick\u001b[0m\u001b[0;34m[\u001b[0m\u001b[0mdf\u001b[0m\u001b[0;34m.\u001b[0m\u001b[0mticker\u001b[0m\u001b[0;34m[\u001b[0m\u001b[0mi\u001b[0m\u001b[0;34m]\u001b[0m\u001b[0;34m]\u001b[0m\u001b[0;34m=\u001b[0m\u001b[0;34m[\u001b[0m\u001b[0;34m]\u001b[0m\u001b[0;34m\u001b[0m\u001b[0;34m\u001b[0m\u001b[0m\n\u001b[0;32m----> 6\u001b[0;31m     \u001b[0mall_tick\u001b[0m\u001b[0;34m[\u001b[0m\u001b[0mdf\u001b[0m\u001b[0;34m.\u001b[0m\u001b[0mticker\u001b[0m\u001b[0;34m[\u001b[0m\u001b[0mi\u001b[0m\u001b[0;34m]\u001b[0m\u001b[0;34m]\u001b[0m\u001b[0;34m.\u001b[0m\u001b[0mappend\u001b[0m\u001b[0;34m(\u001b[0m\u001b[0mdf\u001b[0m\u001b[0;34m.\u001b[0m\u001b[0mprice\u001b[0m\u001b[0;34m[\u001b[0m\u001b[0mi\u001b[0m\u001b[0;34m]\u001b[0m\u001b[0;34m)\u001b[0m\u001b[0;34m\u001b[0m\u001b[0;34m\u001b[0m\u001b[0m\n\u001b[0m",
            "\u001b[0;32m/usr/local/lib/python3.8/dist-packages/pandas/core/series.py\u001b[0m in \u001b[0;36m__getitem__\u001b[0;34m(self, key)\u001b[0m\n\u001b[1;32m    940\u001b[0m \u001b[0;34m\u001b[0m\u001b[0m\n\u001b[1;32m    941\u001b[0m         \u001b[0;32melif\u001b[0m \u001b[0mkey_is_scalar\u001b[0m\u001b[0;34m:\u001b[0m\u001b[0;34m\u001b[0m\u001b[0;34m\u001b[0m\u001b[0m\n\u001b[0;32m--> 942\u001b[0;31m             \u001b[0;32mreturn\u001b[0m \u001b[0mself\u001b[0m\u001b[0;34m.\u001b[0m\u001b[0m_get_value\u001b[0m\u001b[0;34m(\u001b[0m\u001b[0mkey\u001b[0m\u001b[0;34m)\u001b[0m\u001b[0;34m\u001b[0m\u001b[0;34m\u001b[0m\u001b[0m\n\u001b[0m\u001b[1;32m    943\u001b[0m \u001b[0;34m\u001b[0m\u001b[0m\n\u001b[1;32m    944\u001b[0m         \u001b[0;32mif\u001b[0m \u001b[0mis_hashable\u001b[0m\u001b[0;34m(\u001b[0m\u001b[0mkey\u001b[0m\u001b[0;34m)\u001b[0m\u001b[0;34m:\u001b[0m\u001b[0;34m\u001b[0m\u001b[0;34m\u001b[0m\u001b[0m\n",
            "\u001b[0;32m/usr/local/lib/python3.8/dist-packages/pandas/core/series.py\u001b[0m in \u001b[0;36m_get_value\u001b[0;34m(self, label, takeable)\u001b[0m\n\u001b[1;32m   1049\u001b[0m \u001b[0;34m\u001b[0m\u001b[0m\n\u001b[1;32m   1050\u001b[0m         \u001b[0;31m# Similar to Index.get_value, but we do not fall back to positional\u001b[0m\u001b[0;34m\u001b[0m\u001b[0;34m\u001b[0m\u001b[0;34m\u001b[0m\u001b[0m\n\u001b[0;32m-> 1051\u001b[0;31m         \u001b[0mloc\u001b[0m \u001b[0;34m=\u001b[0m \u001b[0mself\u001b[0m\u001b[0;34m.\u001b[0m\u001b[0mindex\u001b[0m\u001b[0;34m.\u001b[0m\u001b[0mget_loc\u001b[0m\u001b[0;34m(\u001b[0m\u001b[0mlabel\u001b[0m\u001b[0;34m)\u001b[0m\u001b[0;34m\u001b[0m\u001b[0;34m\u001b[0m\u001b[0m\n\u001b[0m\u001b[1;32m   1052\u001b[0m         \u001b[0;32mreturn\u001b[0m \u001b[0mself\u001b[0m\u001b[0;34m.\u001b[0m\u001b[0mindex\u001b[0m\u001b[0;34m.\u001b[0m\u001b[0m_get_values_for_loc\u001b[0m\u001b[0;34m(\u001b[0m\u001b[0mself\u001b[0m\u001b[0;34m,\u001b[0m \u001b[0mloc\u001b[0m\u001b[0;34m,\u001b[0m \u001b[0mlabel\u001b[0m\u001b[0;34m)\u001b[0m\u001b[0;34m\u001b[0m\u001b[0;34m\u001b[0m\u001b[0m\n\u001b[1;32m   1053\u001b[0m \u001b[0;34m\u001b[0m\u001b[0m\n",
            "\u001b[0;32m/usr/local/lib/python3.8/dist-packages/pandas/core/indexes/base.py\u001b[0m in \u001b[0;36mget_loc\u001b[0;34m(self, key, method, tolerance)\u001b[0m\n\u001b[1;32m   3361\u001b[0m                 \u001b[0;32mreturn\u001b[0m \u001b[0mself\u001b[0m\u001b[0;34m.\u001b[0m\u001b[0m_engine\u001b[0m\u001b[0;34m.\u001b[0m\u001b[0mget_loc\u001b[0m\u001b[0;34m(\u001b[0m\u001b[0mcasted_key\u001b[0m\u001b[0;34m)\u001b[0m\u001b[0;34m\u001b[0m\u001b[0;34m\u001b[0m\u001b[0m\n\u001b[1;32m   3362\u001b[0m             \u001b[0;32mexcept\u001b[0m \u001b[0mKeyError\u001b[0m \u001b[0;32mas\u001b[0m \u001b[0merr\u001b[0m\u001b[0;34m:\u001b[0m\u001b[0;34m\u001b[0m\u001b[0;34m\u001b[0m\u001b[0m\n\u001b[0;32m-> 3363\u001b[0;31m                 \u001b[0;32mraise\u001b[0m \u001b[0mKeyError\u001b[0m\u001b[0;34m(\u001b[0m\u001b[0mkey\u001b[0m\u001b[0;34m)\u001b[0m \u001b[0;32mfrom\u001b[0m \u001b[0merr\u001b[0m\u001b[0;34m\u001b[0m\u001b[0;34m\u001b[0m\u001b[0m\n\u001b[0m\u001b[1;32m   3364\u001b[0m \u001b[0;34m\u001b[0m\u001b[0m\n\u001b[1;32m   3365\u001b[0m         \u001b[0;32mif\u001b[0m \u001b[0mis_scalar\u001b[0m\u001b[0;34m(\u001b[0m\u001b[0mkey\u001b[0m\u001b[0;34m)\u001b[0m \u001b[0;32mand\u001b[0m \u001b[0misna\u001b[0m\u001b[0;34m(\u001b[0m\u001b[0mkey\u001b[0m\u001b[0;34m)\u001b[0m \u001b[0;32mand\u001b[0m \u001b[0;32mnot\u001b[0m \u001b[0mself\u001b[0m\u001b[0;34m.\u001b[0m\u001b[0mhasnans\u001b[0m\u001b[0;34m:\u001b[0m\u001b[0;34m\u001b[0m\u001b[0;34m\u001b[0m\u001b[0m\n",
            "\u001b[0;31mKeyError\u001b[0m: 45136"
          ]
        }
      ]
    },
    {
      "cell_type": "code",
      "source": [
        "for k in all_tick.keys():\n",
        "    if len(all_tick[k])>1:\n",
        "        range_tickers[k] = [min(all_tick[k]), max(all_tick[k])]"
      ],
      "metadata": {
        "id": "sO99-u1fad00"
      },
      "execution_count": null,
      "outputs": []
    },
    {
      "cell_type": "code",
      "source": [
        "for k in range_tickers.keys():\n",
        "    range_tickers[k] = range_tickers[k][1]-range_tickers[k][0]"
      ],
      "metadata": {
        "id": "Ne49KQV3LPPR"
      },
      "execution_count": null,
      "outputs": []
    },
    {
      "cell_type": "code",
      "source": [
        "sorted_ranges=sorted(range_tickers.items(), key=lambda x: x[1], reverse=True)"
      ],
      "metadata": {
        "id": "d2-3-QLLYyZA"
      },
      "execution_count": null,
      "outputs": []
    },
    {
      "cell_type": "code",
      "source": [
        "print(pd.DataFrame([i[1] for i in sorted_ranges]).hist(), pd.DataFrame([i[1] for i in sorted_ranges]).hist(range=[0, 2000]))"
      ],
      "metadata": {
        "colab": {
          "base_uri": "https://localhost:8080/",
          "height": 562
        },
        "id": "Fp50Q4XTQuCz",
        "outputId": "996e2734-582a-482b-8ffa-466c519e9b02"
      },
      "execution_count": null,
      "outputs": [
        {
          "output_type": "stream",
          "name": "stdout",
          "text": [
            "[[<matplotlib.axes._subplots.AxesSubplot object at 0x7fc6ff5fb9a0>]] [[<matplotlib.axes._subplots.AxesSubplot object at 0x7fc6e097fdc0>]]\n"
          ]
        },
        {
          "output_type": "display_data",
          "data": {
            "text/plain": [
              "<Figure size 432x288 with 1 Axes>"
            ],
            "image/png": "[encoded data removed]"
          },
          "metadata": {
            "needs_background": "light"
          }
        },
        {
          "output_type": "display_data",
          "data": {
            "text/plain": [
              "<Figure size 432x288 with 1 Axes>"
            ],
            "image/png": "[encoded data removed]"
          },
          "metadata": {
            "needs_background": "light"
          }
        }
      ]
    },
    {
      "cell_type": "markdown",
      "source": [
        "Большая часть акций имеет размах в цене около 200, при это есть акции разница макс и мин цены которых около больше 100 000"
      ],
      "metadata": {
        "id": "_g7q6wzRSEBc"
      }
    },
    {
      "cell_type": "code",
      "source": [
        "print(\"Топ самых нестабильных акций: \", [i[0] for i in sorted_ranges][:10])\n",
        "print(\"Топ самых стабильных акций: \", [i[0] for i in sorted_ranges][-11:-1])"
      ],
      "metadata": {
        "colab": {
          "base_uri": "https://localhost:8080/"
        },
        "id": "J9jPRLpeYkaL",
        "outputId": "e2233164-863a-4ca8-ad76-48c279101912"
      },
      "execution_count": null,
      "outputs": [
        {
          "output_type": "stream",
          "name": "stdout",
          "text": [
            "Топ самых нестабильных акций:  ['TRNFP', 'VSMO', 'LNZL', 'GMKN', 'PLZL', 'MGNT', 'FXRU', 'PHOR', 'YNDX', 'TCSG']\n",
            "Топ самых стабильных акций:  ['GOLD', 'SBCS', 'FEES', 'DASB', 'MRKP', 'AKMB', 'TTLK', 'VTBR', 'LQDT', 'TGKA']\n"
          ]
        }
      ]
    }
  ],
  "metadata": {
    "colab": {
      "provenance": []
    },
    "kernelspec": {
      "display_name": "Python 3",
      "name": "python3"
    },
    "language_info": {
      "name": "python"
    }
  },
  "nbformat": 4,
  "nbformat_minor": 0
}